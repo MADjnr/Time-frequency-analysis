{
 "cells": [
  {
   "cell_type": "code",
   "execution_count": null,
   "id": "3faea96c-3a91-4a95-8daa-4502d463c732",
   "metadata": {},
   "outputs": [],
   "source": [
    "In binary search algorithm, for any n, binary search will take logn steps to run in the worst\n",
    "case where simple search will take n steps\n",
    "\n",
    "####### so binary search simply returns the position of the element you are loooking for in\n",
    "####### in a list of elements\n",
    "\n",
    "\n",
    "####### in binary search the input is a sorted list of elements, where if the element you are looking\n",
    "####### for is in the list, the binary search returns the element, else it returns null.\n",
    "\n"
   ]
  },
  {
   "cell_type": "code",
   "execution_count": null,
   "id": "a6c412be-1025-4f5c-9f48-9ebd4dc9334a",
   "metadata": {},
   "outputs": [],
   "source": [
    "def binary_search(list, item):\n",
    "    low = 0\n",
    "    high = len(list)-1\n",
    "    #low and high keep track of which part of the list we will search in\n",
    "    \n",
    "    \n",
    "    while low <= high:\n",
    "        mid"
   ]
  }
 ],
 "metadata": {
  "kernelspec": {
   "display_name": "Python 3",
   "language": "python",
   "name": "python3"
  },
  "language_info": {
   "codemirror_mode": {
    "name": "ipython",
    "version": 3
   },
   "file_extension": ".py",
   "mimetype": "text/x-python",
   "name": "python",
   "nbconvert_exporter": "python",
   "pygments_lexer": "ipython3",
   "version": "3.8.10"
  }
 },
 "nbformat": 4,
 "nbformat_minor": 5
}
