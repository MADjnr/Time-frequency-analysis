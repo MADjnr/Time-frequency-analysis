{
 "cells": [
  {
   "cell_type": "markdown",
   "id": "3031336b-50bf-459a-8951-b622ef22ee06",
   "metadata": {},
   "source": [
    "Vector length"
   ]
  },
  {
   "cell_type": "code",
   "execution_count": 1,
   "id": "880da3b3-6009-4a6e-9e9c-7c414adeddd5",
   "metadata": {},
   "outputs": [],
   "source": [
    "import numpy as np"
   ]
  },
  {
   "cell_type": "code",
   "execution_count": 4,
   "id": "9e993c01-9b91-4ed0-be5e-79b0a91c9df5",
   "metadata": {},
   "outputs": [],
   "source": [
    "v1 = np.array([1,2,3,4,5,6])\n",
    "\n",
    "vl1 = np.sqrt( sum( np.multiply(v1, v1)))"
   ]
  },
  {
   "cell_type": "code",
   "execution_count": 5,
   "id": "5c4eded9-748c-431f-a18b-245c933a66b1",
   "metadata": {},
   "outputs": [
    {
     "data": {
      "text/plain": [
       "9.539392014169456"
      ]
     },
     "execution_count": 5,
     "metadata": {},
     "output_type": "execute_result"
    }
   ],
   "source": [
    "vl1"
   ]
  },
  {
   "cell_type": "code",
   "execution_count": 6,
   "id": "ea89e16c-02ec-46f8-878f-d0a7f3f98d17",
   "metadata": {},
   "outputs": [],
   "source": [
    "# another method is to take the norm.\n",
    "vl2 = np.linalg.norm(v1)"
   ]
  },
  {
   "cell_type": "code",
   "execution_count": 7,
   "id": "7f96b851-c775-49ba-b264-5f7b92a583ec",
   "metadata": {},
   "outputs": [
    {
     "data": {
      "text/plain": [
       "9.539392014169456"
      ]
     },
     "execution_count": 7,
     "metadata": {},
     "output_type": "execute_result"
    }
   ],
   "source": [
    "vl2"
   ]
  },
  {
   "cell_type": "code",
   "execution_count": null,
   "id": "c4fb3c49-7fc1-4139-acbd-d079db193788",
   "metadata": {},
   "outputs": [],
   "source": []
  }
 ],
 "metadata": {
  "kernelspec": {
   "display_name": "Python 3",
   "language": "python",
   "name": "python3"
  },
  "language_info": {
   "codemirror_mode": {
    "name": "ipython",
    "version": 3
   },
   "file_extension": ".py",
   "mimetype": "text/x-python",
   "name": "python",
   "nbconvert_exporter": "python",
   "pygments_lexer": "ipython3",
   "version": "3.8.10"
  }
 },
 "nbformat": 4,
 "nbformat_minor": 5
}
