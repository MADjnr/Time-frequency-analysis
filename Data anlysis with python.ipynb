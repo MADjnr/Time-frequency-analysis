{
 "cells": [
  {
   "cell_type": "code",
   "execution_count": 3,
   "id": "27a72dbe-d3f2-4b4b-8099-696fb2e390b0",
   "metadata": {},
   "outputs": [],
   "source": [
    "import pandas as pd\n",
    "import numpy as np"
   ]
  },
  {
   "cell_type": "code",
   "execution_count": 4,
   "id": "271b04da-27a5-4acb-9050-655ff298b26f",
   "metadata": {},
   "outputs": [],
   "source": [
    "data = pd.Series(np.random.randn(8), \n",
    "                index=[['a','a','a','b','c','c','d','d'],\n",
    "                      [1,2,3,1,3,1,2,2]])"
   ]
  },
  {
   "cell_type": "code",
   "execution_count": 6,
   "id": "0b13ed5f-deb3-48b8-9c56-00e8cbec55d8",
   "metadata": {},
   "outputs": [],
   "source": [
    "data\n",
    "data = pd.DataFrame(data)"
   ]
  },
  {
   "cell_type": "code",
   "execution_count": 7,
   "id": "86749716-9a88-476d-b91a-8b5d6ab432c0",
   "metadata": {},
   "outputs": [
    {
     "data": {
      "text/plain": "            0\na 1  0.927701\n  2 -0.712869\n  3  0.364643\nb 1  0.584275\nc 3  2.143554\n  1  0.748160\nd 2  0.548386\n  2  1.545124",
      "text/html": "<div>\n<style scoped>\n    .dataframe tbody tr th:only-of-type {\n        vertical-align: middle;\n    }\n\n    .dataframe tbody tr th {\n        vertical-align: top;\n    }\n\n    .dataframe thead th {\n        text-align: right;\n    }\n</style>\n<table border=\"1\" class=\"dataframe\">\n  <thead>\n    <tr style=\"text-align: right;\">\n      <th></th>\n      <th></th>\n      <th>0</th>\n    </tr>\n  </thead>\n  <tbody>\n    <tr>\n      <th rowspan=\"3\" valign=\"top\">a</th>\n      <th>1</th>\n      <td>0.927701</td>\n    </tr>\n    <tr>\n      <th>2</th>\n      <td>-0.712869</td>\n    </tr>\n    <tr>\n      <th>3</th>\n      <td>0.364643</td>\n    </tr>\n    <tr>\n      <th>b</th>\n      <th>1</th>\n      <td>0.584275</td>\n    </tr>\n    <tr>\n      <th rowspan=\"2\" valign=\"top\">c</th>\n      <th>3</th>\n      <td>2.143554</td>\n    </tr>\n    <tr>\n      <th>1</th>\n      <td>0.748160</td>\n    </tr>\n    <tr>\n      <th rowspan=\"2\" valign=\"top\">d</th>\n      <th>2</th>\n      <td>0.548386</td>\n    </tr>\n    <tr>\n      <th>2</th>\n      <td>1.545124</td>\n    </tr>\n  </tbody>\n</table>\n</div>"
     },
     "execution_count": 7,
     "metadata": {},
     "output_type": "execute_result"
    }
   ],
   "source": [
    "data"
   ]
  },
  {
   "cell_type": "code",
   "execution_count": 9,
   "outputs": [
    {
     "name": "stdout",
     "output_type": "stream",
     "text": [
      "what are you doing,peter\n"
     ]
    }
   ],
   "source": [
    "def doing_wierd(name):\n",
    "    what = 'what are you doing'\n",
    "    def question_mark():\n",
    "        nonlocal what\n",
    "        what = what + f\",{name}\"\n",
    "    question_mark()\n",
    "    return what\n",
    "print(doing_wierd('peter'))"
   ],
   "metadata": {
    "collapsed": false,
    "pycharm": {
     "name": "#%%\n"
    }
   }
  },
  {
   "cell_type": "code",
   "execution_count": 8,
   "outputs": [
    {
     "ename": "SyntaxError",
     "evalue": "invalid syntax (<ipython-input-8-cfca6237b20d>, line 1)",
     "output_type": "error",
     "traceback": [
      "\u001B[1;36m  File \u001B[1;32m\"<ipython-input-8-cfca6237b20d>\"\u001B[1;36m, line \u001B[1;32m1\u001B[0m\n\u001B[1;33m    help(nonlocal)\u001B[0m\n\u001B[1;37m         ^\u001B[0m\n\u001B[1;31mSyntaxError\u001B[0m\u001B[1;31m:\u001B[0m invalid syntax\n"
     ]
    }
   ],
   "source": [],
   "metadata": {
    "collapsed": false,
    "pycharm": {
     "name": "#%%\n"
    }
   }
  },
  {
   "cell_type": "code",
   "execution_count": null,
   "outputs": [],
   "source": [],
   "metadata": {
    "collapsed": false,
    "pycharm": {
     "name": "#%%\n"
    }
   }
  }
 ],
 "metadata": {
  "kernelspec": {
   "display_name": "Python 3",
   "language": "python",
   "name": "python3"
  },
  "language_info": {
   "codemirror_mode": {
    "name": "ipython",
    "version": 3
   },
   "file_extension": ".py",
   "mimetype": "text/x-python",
   "name": "python",
   "nbconvert_exporter": "python",
   "pygments_lexer": "ipython3",
   "version": "3.8.10"
  }
 },
 "nbformat": 4,
 "nbformat_minor": 5
}